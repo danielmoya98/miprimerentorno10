{
 "cells": [
  {
   "cell_type": "code",
   "execution_count": 2,
   "id": "initial_id",
   "metadata": {
    "collapsed": true,
    "ExecuteTime": {
     "end_time": "2024-02-23T23:56:37.107526Z",
     "start_time": "2024-02-23T23:56:23.106372Z"
    }
   },
   "outputs": [
    {
     "name": "stdout",
     "output_type": "stream",
     "text": [
      "Valores de la lista:\n",
      "El valor de la lista es = 1\n",
      "El valor de la lista es = 2\n",
      "Lista después de la modificación:\n",
      "El valor de la lista es = 1\n",
      "El valor de la lista es = 4\n",
      "El número 4 ha sido eliminado de la lista.\n",
      "Valores finales de la lista:\n",
      "Valores de la lista = 1\n"
     ]
    }
   ],
   "source": [
    "lista = []\n",
    "\n",
    "numero = int(input(\"Ingrese la longitud de la lista: \"))\n",
    "\n",
    "for i in range(numero):\n",
    "    num = int(input(f\"Ingrese valor de la lista en la posición {i + 1}: \"))\n",
    "    lista.append(num)\n",
    "\n",
    "print(\"Valores de la lista:\")\n",
    "for valor in lista:\n",
    "    print(f\"El valor de la lista es = {valor}\")\n",
    "\n",
    "numero2 = int(input(\"Ingrese el número a modificar: \"))\n",
    "modificar = int(input(\"Ingrese el nuevo valor: \"))\n",
    "\n",
    "for j in range(numero):\n",
    "    if lista[j] == numero2:\n",
    "        lista[j] = modificar\n",
    "\n",
    "print(\"Lista después de la modificación:\")\n",
    "for valor in lista:\n",
    "    print(f\"El valor de la lista es = {valor}\")\n",
    "\n",
    "numeroEliminar = int(input(\"Ingrese el número que desea eliminar: \"))\n",
    "\n",
    "if numeroEliminar in lista:\n",
    "    lista.remove(numeroEliminar)\n",
    "    print(f\"El número {numeroEliminar} ha sido eliminado de la lista.\")\n",
    "else:\n",
    "    print(f\"El número {numeroEliminar} no existe en la lista.\")\n",
    "\n",
    "print(\"Valores finales de la lista:\")\n",
    "for valor in lista:\n",
    "    print(f\"Valores de la lista = {valor}\")\n"
   ]
  },
  {
   "cell_type": "code",
   "outputs": [
    {
     "name": "stdout",
     "output_type": "stream",
     "text": [
      "Los primeros 10 términos de la secuencia de Fibonacci son: [0, 1, 1, 2, 3, 5, 8, 13, 21, 34]\n"
     ]
    }
   ],
   "source": [
    "def fibonacci_bucle(n1):\n",
    "    fib_sequence = [0, 1]\n",
    "    while len(fib_sequence) < n1:\n",
    "        fib_sequence.append(fib_sequence[-1] + fib_sequence[-2])\n",
    "    return fib_sequence\n",
    "\n",
    "n = int(input(\"Ingrese la logitud de la serie\"))\n",
    "fibo_resultado = fibonacci_bucle(n)\n",
    "print(f\"Los primeros {n} términos de la secuencia de Fibonacci son: {fibo_resultado}\")\n"
   ],
   "metadata": {
    "collapsed": false,
    "ExecuteTime": {
     "end_time": "2024-02-23T23:32:52.130375Z",
     "start_time": "2024-02-23T23:32:49.235095Z"
    }
   },
   "id": "adc130485641e688",
   "execution_count": 27
  },
  {
   "cell_type": "code",
   "outputs": [],
   "source": [],
   "metadata": {
    "collapsed": false
   },
   "id": "4746d22d9d825ab4"
  }
 ],
 "metadata": {
  "kernelspec": {
   "display_name": "Python 3",
   "language": "python",
   "name": "python3"
  },
  "language_info": {
   "codemirror_mode": {
    "name": "ipython",
    "version": 2
   },
   "file_extension": ".py",
   "mimetype": "text/x-python",
   "name": "python",
   "nbconvert_exporter": "python",
   "pygments_lexer": "ipython2",
   "version": "2.7.6"
  }
 },
 "nbformat": 4,
 "nbformat_minor": 5
}
