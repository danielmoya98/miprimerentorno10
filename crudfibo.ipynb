{
 "cells": [
  {
   "cell_type": "code",
   "execution_count": 1,
   "id": "initial_id",
   "metadata": {
    "collapsed": true,
    "ExecuteTime": {
     "end_time": "2024-02-23T23:52:28.692381Z",
     "start_time": "2024-02-23T23:52:26.321672Z"
    }
   },
   "outputs": [
    {
     "ename": "ValueError",
     "evalue": "invalid literal for int() with base 10: ''",
     "output_type": "error",
     "traceback": [
      "\u001B[1;31m---------------------------------------------------------------------------\u001B[0m",
      "\u001B[1;31mValueError\u001B[0m                                Traceback (most recent call last)",
      "Cell \u001B[1;32mIn[1], line 3\u001B[0m\n\u001B[0;32m      1\u001B[0m lista \u001B[38;5;241m=\u001B[39m []\n\u001B[1;32m----> 3\u001B[0m numero \u001B[38;5;241m=\u001B[39m \u001B[38;5;28;43mint\u001B[39;49m\u001B[43m(\u001B[49m\u001B[38;5;28;43minput\u001B[39;49m\u001B[43m(\u001B[49m\u001B[38;5;124;43m\"\u001B[39;49m\u001B[38;5;124;43mIngrese la longitud de la lista: \u001B[39;49m\u001B[38;5;124;43m\"\u001B[39;49m\u001B[43m)\u001B[49m\u001B[43m)\u001B[49m\n\u001B[0;32m      5\u001B[0m \u001B[38;5;28;01mfor\u001B[39;00m i \u001B[38;5;129;01min\u001B[39;00m \u001B[38;5;28mrange\u001B[39m(numero):\n\u001B[0;32m      6\u001B[0m     num \u001B[38;5;241m=\u001B[39m \u001B[38;5;28mint\u001B[39m(\u001B[38;5;28minput\u001B[39m(\u001B[38;5;124mf\u001B[39m\u001B[38;5;124m\"\u001B[39m\u001B[38;5;124mIngrese valor de la lista en la posición \u001B[39m\u001B[38;5;132;01m{\u001B[39;00mi\u001B[38;5;250m \u001B[39m\u001B[38;5;241m+\u001B[39m\u001B[38;5;250m \u001B[39m\u001B[38;5;241m1\u001B[39m\u001B[38;5;132;01m}\u001B[39;00m\u001B[38;5;124m: \u001B[39m\u001B[38;5;124m\"\u001B[39m))\n",
      "\u001B[1;31mValueError\u001B[0m: invalid literal for int() with base 10: ''"
     ]
    }
   ],
   "source": [
    "lista = []\n",
    "\n",
    "numero = int(input(\"Ingrese la longitud de la lista: \"))\n",
    "\n",
    "for i in range(numero):\n",
    "    num = int(input(f\"Ingrese valor de la lista en la posición {i + 1}: \"))\n",
    "    lista.append(num)\n",
    "\n",
    "print(\"Valores de la lista:\")\n",
    "for valor in lista:\n",
    "    print(f\"El valor de la lista es = {valor}\")\n",
    "\n",
    "numero2 = int(input(\"Ingrese el número a modificar: \"))\n",
    "modificar = int(input(\"Ingrese el nuevo valor: \"))\n",
    "\n",
    "for j in range(numero):\n",
    "    if lista[j] == numero2:\n",
    "        lista[j] = modificar\n",
    "\n",
    "print(\"Lista después de la modificación:\")\n",
    "for valor in lista:\n",
    "    print(f\"El valor de la lista es = {valor}\")\n",
    "\n",
    "numeroEliminar = int(input(\"Ingrese el número que desea eliminar: \"))\n",
    "\n",
    "if numeroEliminar in lista:\n",
    "    lista.remove(numeroEliminar)\n",
    "    print(f\"El número {numeroEliminar} ha sido eliminado de la lista.\")\n",
    "else:\n",
    "    print(f\"El número {numeroEliminar} no existe en la lista.\")\n",
    "\n",
    "print(\"Valores finales de la lista:\")\n",
    "for valor in lista:\n",
    "    print(f\"Valores de la lista = {valor}\")\n"
   ]
  },
  {
   "cell_type": "code",
   "outputs": [
    {
     "name": "stdout",
     "output_type": "stream",
     "text": [
      "Los primeros 10 términos de la secuencia de Fibonacci son: [0, 1, 1, 2, 3, 5, 8, 13, 21, 34]\n"
     ]
    }
   ],
   "source": [
    "def fibonacci_bucle(n):\n",
    "    fib_sequence = [0, 1]\n",
    "    while len(fib_sequence) < n:\n",
    "        fib_sequence.append(fib_sequence[-1] + fib_sequence[-2])\n",
    "    return fib_sequence\n",
    "\n",
    "n = int(input(\"Ingrese la logitud de la serie\"))\n",
    "fibo_resultado = fibonacci_bucle(n)\n",
    "print(f\"Los primeros {n} términos de la secuencia de Fibonacci son: {fibo_resultado}\")\n"
   ],
   "metadata": {
    "collapsed": false,
    "ExecuteTime": {
     "end_time": "2024-02-23T23:32:52.130375Z",
     "start_time": "2024-02-23T23:32:49.235095Z"
    }
   },
   "id": "adc130485641e688",
   "execution_count": 27
  },
  {
   "cell_type": "code",
   "outputs": [],
   "source": [],
   "metadata": {
    "collapsed": false
   },
   "id": "4746d22d9d825ab4"
  }
 ],
 "metadata": {
  "kernelspec": {
   "display_name": "Python 3",
   "language": "python",
   "name": "python3"
  },
  "language_info": {
   "codemirror_mode": {
    "name": "ipython",
    "version": 2
   },
   "file_extension": ".py",
   "mimetype": "text/x-python",
   "name": "python",
   "nbconvert_exporter": "python",
   "pygments_lexer": "ipython2",
   "version": "2.7.6"
  }
 },
 "nbformat": 4,
 "nbformat_minor": 5
}
