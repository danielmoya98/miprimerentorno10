{
 "cells": [
  {
   "cell_type": "code",
   "execution_count": 1,
   "id": "initial_id",
   "metadata": {
    "collapsed": true,
    "ExecuteTime": {
     "end_time": "2024-03-12T23:36:31.584075Z",
     "start_time": "2024-03-12T23:33:54.403537Z"
    }
   },
   "outputs": [],
   "source": [
    "import cv2\n",
    "\n",
    "# Cargar la imagen en escala de grises\n",
    "imagen = cv2.imread('C:/Users/Alienware/DataspellProjects/miprimerentorno/imagen_gris.jpg', 0)\n",
    "\n",
    "# Aplicar el umbral de Otsu\n",
    "umbral, imagen_umbral = cv2.threshold(imagen, 0, 255, cv2.THRESH_BINARY + cv2.THRESH_OTSU)\n",
    "\n",
    "# Mostrar la imagen original y la imagen umbralizada\n",
    "cv2.imshow('Imagen Original', imagen)\n",
    "cv2.imshow('Imagen Umbralizada', imagen_umbral)\n",
    "cv2.waitKey(0)\n",
    "cv2.destroyAllWindows()"
   ]
  }
 ],
 "metadata": {
  "kernelspec": {
   "display_name": "Python 3",
   "language": "python",
   "name": "python3"
  },
  "language_info": {
   "codemirror_mode": {
    "name": "ipython",
    "version": 2
   },
   "file_extension": ".py",
   "mimetype": "text/x-python",
   "name": "python",
   "nbconvert_exporter": "python",
   "pygments_lexer": "ipython2",
   "version": "2.7.6"
  }
 },
 "nbformat": 4,
 "nbformat_minor": 5
}
