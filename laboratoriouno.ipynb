{
 "cells": [
  {
   "cell_type": "code",
   "execution_count": 3,
   "id": "initial_id",
   "metadata": {
    "collapsed": true,
    "ExecuteTime": {
     "end_time": "2024-02-23T03:01:43.865644Z",
     "start_time": "2024-02-23T03:01:35.813659Z"
    }
   },
   "outputs": [
    {
     "name": "stdout",
     "output_type": "stream",
     "text": [
      "anagrama\n",
      "anagrama\n",
      "anagrama\n",
      "anagrama\n"
     ]
    }
   ],
   "source": [
    "palabra = \"\"\n",
    "palabra2 = \"\"\n",
    "\n",
    "palabra = input(\"ingrese su palabra\")\n",
    "palabra2 = input(\"ingrese su palabra\")\n",
    "\n",
    "if len(palabra) == len(palabra2):\n",
    "    for i in range(len(palabra)):\n",
    "        if palabra[i] in palabra2:\n",
    "            print(\"anagrama\")\n",
    "        else:\n",
    "            print(\"las palbras no son anagrama\")\n",
    "            break\n",
    "else:\n",
    "    print(\"no es anagrama\")"
   ]
  },
  {
   "cell_type": "code",
   "outputs": [
    {
     "name": "stdout",
     "output_type": "stream",
     "text": [
      "el factorial de 5 es 1\n",
      "el factorial de 5 es 2\n",
      "el factorial de 5 es 6\n",
      "el factorial de 5 es 24\n",
      "el factorial de 5 es 120\n"
     ]
    }
   ],
   "source": [
    "numero = 0\n",
    "\n",
    "numero = int(input(\"ingrese numero\"))\n",
    "\n",
    "factorial = 1\n",
    "\n",
    "for i in range(numero + 1):\n",
    "    if i > 0:\n",
    "        factorial *= i\n",
    "        print(f\"el factorial de {numero} es {factorial}\")\n"
   ],
   "metadata": {
    "collapsed": false,
    "ExecuteTime": {
     "end_time": "2024-02-23T03:09:41.947841Z",
     "start_time": "2024-02-23T03:09:39.468378Z"
    }
   },
   "id": "2839f63f5bee08db",
   "execution_count": 7
  },
  {
   "cell_type": "code",
   "outputs": [
    {
     "name": "stdout",
     "output_type": "stream",
     "text": [
      "Numero maximo: 999\n",
      "Numero mínimo: 132\n"
     ]
    }
   ],
   "source": [
    "longitud = 3\n",
    "numeros = [0] * longitud\n",
    "\n",
    "for i in range(longitud):\n",
    "    numeros[i] = int(input(\"Ingrese un número de 3 dígitos: \"))\n",
    "\n",
    "print(\"Numero maximo:\", max(numeros))\n",
    "print(\"Numero mínimo:\", min(numeros))\n",
    "\n"
   ],
   "metadata": {
    "collapsed": false,
    "ExecuteTime": {
     "end_time": "2024-02-23T03:27:30.117625Z",
     "start_time": "2024-02-23T03:27:22.157745Z"
    }
   },
   "id": "b1be351fb9c23d31",
   "execution_count": 3
  },
  {
   "cell_type": "code",
   "outputs": [
    {
     "name": "stdout",
     "output_type": "stream",
     "text": [
      "no es palindromo\n"
     ]
    }
   ],
   "source": [
    "frase = \"\"\n",
    "\n",
    "frase = input(\"ingrese palabra\")\n",
    "\n",
    "if frase == frase[::-1]:\n",
    "    print(\"es palindromo\")\n",
    "else:\n",
    "    print(\"no es palindromo\")"
   ],
   "metadata": {
    "collapsed": false,
    "ExecuteTime": {
     "end_time": "2024-02-23T22:49:21.229137Z",
     "start_time": "2024-02-23T22:49:09.593851Z"
    }
   },
   "id": "f91e166d3ef1354a",
   "execution_count": 1
  }
 ],
 "metadata": {
  "kernelspec": {
   "display_name": "Python 3",
   "language": "python",
   "name": "python3"
  },
  "language_info": {
   "codemirror_mode": {
    "name": "ipython",
    "version": 2
   },
   "file_extension": ".py",
   "mimetype": "text/x-python",
   "name": "python",
   "nbconvert_exporter": "python",
   "pygments_lexer": "ipython2",
   "version": "2.7.6"
  }
 },
 "nbformat": 4,
 "nbformat_minor": 5
}
