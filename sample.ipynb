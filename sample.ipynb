{
 "cells": [
  {
   "cell_type": "code",
   "execution_count": 31,
   "id": "initial_id",
   "metadata": {
    "collapsed": true,
    "ExecuteTime": {
     "end_time": "2024-02-21T17:19:09.262151Z",
     "start_time": "2024-02-21T17:19:05.631307Z"
    }
   },
   "outputs": [
    {
     "name": "stdout",
     "output_type": "stream",
     "text": [
      "hola\n",
      "hola\n",
      "hola\n",
      "hola\n",
      "hola\n",
      "hola\n",
      "hola\n",
      "hola\n",
      "hola\n",
      "hola\n",
      "hola\n",
      "hola\n",
      "hola\n",
      "hola\n",
      "hola\n",
      "hola\n",
      "hola\n",
      "hola\n",
      "hola\n",
      "hola\n",
      "hola\n",
      "hola\n",
      "hola\n",
      "hola\n",
      "hola\n",
      "hola\n",
      "hola\n",
      "hola\n",
      "hola\n",
      "hola\n",
      "hola\n",
      "hola\n",
      "hola\n",
      "hola\n"
     ]
    }
   ],
   "source": [
    "palabra = \"\"\n",
    "cantidadDeVeces = 0\n",
    "\n",
    "palabra = input(\"Ingrese una palabra: \")\n",
    "cantidadDeVeces = int(input(\"Ingrese candidad de veces\"))\n",
    "\n",
    "for i in range(cantidadDeVeces):\n",
    "    print(palabra)\n",
    "    "
   ]
  },
  {
   "cell_type": "code",
   "outputs": [
    {
     "name": "stdout",
     "output_type": "stream",
     "text": [
      "el area es 6 y el perimetro es 10 6 10\n"
     ]
    }
   ],
   "source": [
    "base = 0 \n",
    "altura = 0\n",
    "area = 0\n",
    "perimetro = 0\n",
    "\n",
    "base = int(input(\"Ingrese base\"))\n",
    "altura = int(input(\"Ingrese altura\"))\n",
    "\n",
    "area = base * altura\n",
    "perimetro = (2*base) + (2*altura)\n",
    "\n",
    "print(\"el area es {area} y el perimetro es {perimetro}\")\n"
   ],
   "metadata": {
    "collapsed": false,
    "ExecuteTime": {
     "end_time": "2024-02-21T17:06:38.386252Z",
     "start_time": "2024-02-21T17:06:32.854499Z"
    }
   },
   "id": "5bbfd82e0cfd3e00",
   "execution_count": 2
  },
  {
   "cell_type": "code",
   "outputs": [
    {
     "name": "stdout",
     "output_type": "stream",
     "text": [
      "50\n"
     ]
    }
   ],
   "source": [
    "suma = 0\n",
    "n1 = 0\n",
    "n2 = 0\n",
    "\n",
    "n1 = int(input(\"Ingrese n1\"))\n",
    "n2 = int(input(\"Ingrese n2\"))\n",
    "\n",
    "suma = n1 + n2\n",
    "\n",
    "print(suma)\n"
   ],
   "metadata": {
    "collapsed": false,
    "ExecuteTime": {
     "end_time": "2024-02-21T17:09:46.311681Z",
     "start_time": "2024-02-21T17:09:42.497322Z"
    }
   },
   "id": "cce482826ca9fbeb",
   "execution_count": 4
  },
  {
   "cell_type": "code",
   "outputs": [
    {
     "name": "stdout",
     "output_type": "stream",
     "text": [
      "no es vocal\n",
      "es vocal :  A\n",
      "no es vocal\n",
      "es vocal :  I\n",
      "es vocal :  E\n",
      "no es vocal\n"
     ]
    }
   ],
   "source": [
    "palabra = input(\"Ingrese palabra\")\n",
    "\n",
    "for i in range(len(palabra)):\n",
    "    \n",
    "    if palabra[i] == \"a\" or palabra[i] == \"e\" or palabra[i] == \"i\" or palabra[i] == \"o\" or palabra[i]==\"u\":\n",
    "        print(\"es vocal : \", palabra[i].upper())\n",
    "    else: print(\"no es vocal\")"
   ],
   "metadata": {
    "collapsed": false,
    "ExecuteTime": {
     "end_time": "2024-02-21T17:18:44.816992Z",
     "start_time": "2024-02-21T17:18:41.565627Z"
    }
   },
   "id": "dedc9698834b3efd",
   "execution_count": 30
  },
  {
   "cell_type": "code",
   "outputs": [
    {
     "name": "stdout",
     "output_type": "stream",
     "text": [
      "0\n",
      "1\n",
      "3\n",
      "6\n",
      "10\n",
      "15\n",
      "21\n",
      "28\n",
      "36\n",
      "45\n",
      "55\n",
      "66\n",
      "78\n",
      "91\n",
      "105\n",
      "120\n",
      "136\n",
      "153\n",
      "171\n",
      "190\n",
      "210\n",
      "231\n",
      "253\n",
      "276\n",
      "300\n",
      "325\n",
      "351\n",
      "378\n",
      "406\n",
      "435\n",
      "465\n",
      "496\n",
      "528\n",
      "561\n",
      "595\n",
      "630\n",
      "666\n",
      "703\n",
      "741\n",
      "780\n",
      "820\n",
      "861\n",
      "903\n",
      "946\n",
      "990\n"
     ]
    }
   ],
   "source": [
    "numero = int(input(\"Ingrese numero\"))\n",
    "sumatoria = 0\n",
    "\n",
    "for i in range(numero):\n",
    "    sumatoria += i\n",
    "    print(sumatoria)"
   ],
   "metadata": {
    "collapsed": false,
    "ExecuteTime": {
     "end_time": "2024-02-21T17:21:30.701257Z",
     "start_time": "2024-02-21T17:21:28.868212Z"
    }
   },
   "id": "931e7828e9658305",
   "execution_count": 33
  }
 ],
 "metadata": {
  "kernelspec": {
   "display_name": "Python 3",
   "language": "python",
   "name": "python3"
  },
  "language_info": {
   "codemirror_mode": {
    "name": "ipython",
    "version": 2
   },
   "file_extension": ".py",
   "mimetype": "text/x-python",
   "name": "python",
   "nbconvert_exporter": "python",
   "pygments_lexer": "ipython2",
   "version": "2.7.6"
  }
 },
 "nbformat": 4,
 "nbformat_minor": 5
}
